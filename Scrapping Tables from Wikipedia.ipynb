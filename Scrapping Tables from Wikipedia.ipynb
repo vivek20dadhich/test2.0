{
 "cells": [
  {
   "cell_type": "markdown",
   "metadata": {},
   "source": [
    "**20MAI0077**\n",
    "\n",
    "**Vivek Dadhich**\n",
    "\n",
    "**DWM LAB DA 6**\n",
    "<br>\n",
    "<br>"
   ]
  },
  {
   "cell_type": "markdown",
   "metadata": {},
   "source": [
    "**Web Scraping** is an automatic method to obtain large amounts of data from websites. Most of this data is unstructured data in an HTML format which is then converted into structured data in a spreadsheet or a database so that it can be used in various applications\n",
    "<br>"
   ]
  },
  {
   "cell_type": "markdown",
   "metadata": {},
   "source": [
    "**Steps for Scraping Any Website**\n",
    "\n",
    "1. Sending an HTTP GET request to the URL of the webpage that you want to scrape, which will respond with HTML content. We can do this by using the Request library of Python.\n",
    "\n",
    "2. Fetching and parsing the data using Beautifulsoup and maintain the data in some data structure such as Dict or List.\n",
    "\n",
    "3. Analyzing the HTML tags and their attributes, such as class, id, and other HTML tag attributes. Also, identifying your HTML tags where your content lives.\n",
    "\n",
    "4. Outputting the data in any file format such as CSV, XLSX, JSON, etc."
   ]
  },
  {
   "cell_type": "code",
   "execution_count": 20,
   "metadata": {},
   "outputs": [],
   "source": [
    "import urllib.request\n",
    "from bs4 import BeautifulSoup \n",
    "import re\n",
    "import pandas as pd"
   ]
  },
  {
   "cell_type": "markdown",
   "metadata": {},
   "source": [
    "### Pulling HTML out of a web page\n",
    "<br>"
   ]
  },
  {
   "cell_type": "code",
   "execution_count": 142,
   "metadata": {},
   "outputs": [
    {
     "name": "stdout",
     "output_type": "stream",
     "text": [
      "COVID-19 pandemic in Rajasthan - Wikipedia\n"
     ]
    }
   ],
   "source": [
    "#load html code from a url\n",
    "page = urllib.request.urlopen(\"https://en.wikipedia.org/wiki/COVID-19_pandemic_in_Rajasthan\")\n",
    "soup = BeautifulSoup(page, 'html.parser')\n",
    "print(soup.title.text)"
   ]
  },
  {
   "cell_type": "markdown",
   "metadata": {},
   "source": [
    "### Targeting 1st Table\n",
    "<br>"
   ]
  },
  {
   "cell_type": "code",
   "execution_count": 151,
   "metadata": {},
   "outputs": [],
   "source": [
    "table1 = soup.find('table')\n",
    "cov_in_raj = []\n",
    "for items in table1.find_all(\"tr\")[3:-1]:\n",
    "    data1 = [' '.join(item.text.split()) for item in items.find_all(['th','td'])]\n",
    "    cov_in_raj.append(data1)"
   ]
  },
  {
   "cell_type": "code",
   "execution_count": 160,
   "metadata": {},
   "outputs": [
    {
     "data": {
      "text/html": [
       "<div>\n",
       "<style scoped>\n",
       "    .dataframe tbody tr th:only-of-type {\n",
       "        vertical-align: middle;\n",
       "    }\n",
       "\n",
       "    .dataframe tbody tr th {\n",
       "        vertical-align: top;\n",
       "    }\n",
       "\n",
       "    .dataframe thead th {\n",
       "        text-align: right;\n",
       "    }\n",
       "</style>\n",
       "<table border=\"1\" class=\"dataframe\">\n",
       "  <thead>\n",
       "    <tr style=\"text-align: right;\">\n",
       "      <th></th>\n",
       "      <th>0</th>\n",
       "      <th>1</th>\n",
       "    </tr>\n",
       "  </thead>\n",
       "  <tbody>\n",
       "    <tr>\n",
       "      <th>0</th>\n",
       "      <td>Disease</td>\n",
       "      <td>COVID-19</td>\n",
       "    </tr>\n",
       "    <tr>\n",
       "      <th>1</th>\n",
       "      <td>Virus strain</td>\n",
       "      <td>SARS-CoV-2</td>\n",
       "    </tr>\n",
       "    <tr>\n",
       "      <th>2</th>\n",
       "      <td>Location</td>\n",
       "      <td>Rajasthan, India</td>\n",
       "    </tr>\n",
       "    <tr>\n",
       "      <th>3</th>\n",
       "      <td>First outbreak</td>\n",
       "      <td>Wuhan, Hubei, China</td>\n",
       "    </tr>\n",
       "    <tr>\n",
       "      <th>4</th>\n",
       "      <td>Index case</td>\n",
       "      <td>Jaipur</td>\n",
       "    </tr>\n",
       "  </tbody>\n",
       "</table>\n",
       "</div>"
      ],
      "text/plain": [
       "                0                    1\n",
       "0         Disease             COVID-19\n",
       "1    Virus strain           SARS-CoV-2\n",
       "2        Location     Rajasthan, India\n",
       "3  First outbreak  Wuhan, Hubei, China\n",
       "4      Index case               Jaipur"
      ]
     },
     "execution_count": 160,
     "metadata": {},
     "output_type": "execute_result"
    }
   ],
   "source": [
    "df1 = pd.DataFrame(cov_in_raj)\n",
    "df1.head()"
   ]
  },
  {
   "cell_type": "markdown",
   "metadata": {},
   "source": [
    "<br>\n",
    "\n",
    "### Targeting 2nd Table"
   ]
  },
  {
   "cell_type": "markdown",
   "metadata": {},
   "source": [
    "Analyzing the outer table, we can see that it has special attributes which include class as **wikitable** and has two tr tags inside tbody"
   ]
  },
  {
   "cell_type": "code",
   "execution_count": 162,
   "metadata": {},
   "outputs": [],
   "source": [
    "table2 = soup.find(\"table\",class_=\"wikitable\")\n",
    "\n",
    "District = []\n",
    "Total_cases = []\n",
    "Recoveries = []\n",
    "Deaths = []\n",
    "Active_cases = []\n",
    "\n",
    "for items in table2.find_all(\"tr\")[3:-1]:\n",
    "    data2 = [' '.join(item.text.split()) for item in items.find_all(['th','td'])]\n",
    "    District.append(data2[0])\n",
    "    Total_cases.append(data2[1])\n",
    "    Recoveries.append(data2[2])\n",
    "    Deaths.append(data2[3])\n",
    "    Active_cases.append(data2[4])"
   ]
  },
  {
   "cell_type": "code",
   "execution_count": 163,
   "metadata": {},
   "outputs": [
    {
     "data": {
      "text/html": [
       "<div>\n",
       "<style scoped>\n",
       "    .dataframe tbody tr th:only-of-type {\n",
       "        vertical-align: middle;\n",
       "    }\n",
       "\n",
       "    .dataframe tbody tr th {\n",
       "        vertical-align: top;\n",
       "    }\n",
       "\n",
       "    .dataframe thead th {\n",
       "        text-align: right;\n",
       "    }\n",
       "</style>\n",
       "<table border=\"1\" class=\"dataframe\">\n",
       "  <thead>\n",
       "    <tr style=\"text-align: right;\">\n",
       "      <th></th>\n",
       "      <th>District</th>\n",
       "      <th>Total cases</th>\n",
       "      <th>Recoveries</th>\n",
       "      <th>Deaths</th>\n",
       "      <th>Active cases</th>\n",
       "    </tr>\n",
       "  </thead>\n",
       "  <tbody>\n",
       "    <tr>\n",
       "      <th>0</th>\n",
       "      <td>Ajmer</td>\n",
       "      <td>29,326</td>\n",
       "      <td>23,241</td>\n",
       "      <td>285</td>\n",
       "      <td>5,800</td>\n",
       "    </tr>\n",
       "    <tr>\n",
       "      <th>1</th>\n",
       "      <td>Alwar</td>\n",
       "      <td>40,525</td>\n",
       "      <td>29,408</td>\n",
       "      <td>137</td>\n",
       "      <td>10,980</td>\n",
       "    </tr>\n",
       "    <tr>\n",
       "      <th>2</th>\n",
       "      <td>Banswara</td>\n",
       "      <td>7,463</td>\n",
       "      <td>4,959</td>\n",
       "      <td>58</td>\n",
       "      <td>2,446</td>\n",
       "    </tr>\n",
       "    <tr>\n",
       "      <th>3</th>\n",
       "      <td>Baran</td>\n",
       "      <td>7,744</td>\n",
       "      <td>4,285</td>\n",
       "      <td>46</td>\n",
       "      <td>3,413</td>\n",
       "    </tr>\n",
       "    <tr>\n",
       "      <th>4</th>\n",
       "      <td>Barmer</td>\n",
       "      <td>8,817</td>\n",
       "      <td>5,548</td>\n",
       "      <td>92</td>\n",
       "      <td>3,177</td>\n",
       "    </tr>\n",
       "    <tr>\n",
       "      <th>5</th>\n",
       "      <td>Bharatpur</td>\n",
       "      <td>11,716</td>\n",
       "      <td>10,265</td>\n",
       "      <td>147</td>\n",
       "      <td>1,304</td>\n",
       "    </tr>\n",
       "    <tr>\n",
       "      <th>6</th>\n",
       "      <td>Bhilwara</td>\n",
       "      <td>23,161</td>\n",
       "      <td>13,825</td>\n",
       "      <td>74</td>\n",
       "      <td>9,262</td>\n",
       "    </tr>\n",
       "    <tr>\n",
       "      <th>7</th>\n",
       "      <td>Bikaner</td>\n",
       "      <td>30,250</td>\n",
       "      <td>23,901</td>\n",
       "      <td>251</td>\n",
       "      <td>6,098</td>\n",
       "    </tr>\n",
       "    <tr>\n",
       "      <th>8</th>\n",
       "      <td>Bundi</td>\n",
       "      <td>5,643</td>\n",
       "      <td>3,691</td>\n",
       "      <td>27</td>\n",
       "      <td>1,925</td>\n",
       "    </tr>\n",
       "    <tr>\n",
       "      <th>9</th>\n",
       "      <td>Chittorgarh</td>\n",
       "      <td>11,868</td>\n",
       "      <td>7,626</td>\n",
       "      <td>71</td>\n",
       "      <td>4,171</td>\n",
       "    </tr>\n",
       "  </tbody>\n",
       "</table>\n",
       "</div>"
      ],
      "text/plain": [
       "      District Total cases Recoveries Deaths Active cases\n",
       "0        Ajmer      29,326     23,241    285        5,800\n",
       "1        Alwar      40,525     29,408    137       10,980\n",
       "2     Banswara       7,463      4,959     58        2,446\n",
       "3        Baran       7,744      4,285     46        3,413\n",
       "4       Barmer       8,817      5,548     92        3,177\n",
       "5    Bharatpur      11,716     10,265    147        1,304\n",
       "6     Bhilwara      23,161     13,825     74        9,262\n",
       "7      Bikaner      30,250     23,901    251        6,098\n",
       "8        Bundi       5,643      3,691     27        1,925\n",
       "9  Chittorgarh      11,868      7,626     71        4,171"
      ]
     },
     "execution_count": 163,
     "metadata": {},
     "output_type": "execute_result"
    }
   ],
   "source": [
    "#df1 = pd.DataFrame(District, columns = ['District'])\n",
    "df2 = pd.DataFrame({'District': District, 'Total cases':Total_cases, 'Recoveries':Recoveries, 'Deaths':Deaths, 'Active cases':Active_cases})\n",
    "df2.head(10)"
   ]
  },
  {
   "cell_type": "markdown",
   "metadata": {},
   "source": [
    "<br>\n",
    "\n",
    "### Targeting 3rd Table"
   ]
  },
  {
   "cell_type": "code",
   "execution_count": 164,
   "metadata": {},
   "outputs": [],
   "source": [
    "table3 = soup.find('table',class_='wikitable plainrowheaders')\n",
    "cov_in_raj_2 = []\n",
    "for items in table3.find_all(\"tr\")[:-1]:\n",
    "    data3 = [' '.join(item.text.split()) for item in items.find_all(['th','td'])]\n",
    "    cov_in_raj_2.append(data3)"
   ]
  },
  {
   "cell_type": "code",
   "execution_count": 165,
   "metadata": {},
   "outputs": [
    {
     "data": {
      "text/html": [
       "<div>\n",
       "<style scoped>\n",
       "    .dataframe tbody tr th:only-of-type {\n",
       "        vertical-align: middle;\n",
       "    }\n",
       "\n",
       "    .dataframe tbody tr th {\n",
       "        vertical-align: top;\n",
       "    }\n",
       "\n",
       "    .dataframe thead th {\n",
       "        text-align: right;\n",
       "    }\n",
       "</style>\n",
       "<table border=\"1\" class=\"dataframe\">\n",
       "  <thead>\n",
       "    <tr style=\"text-align: right;\">\n",
       "      <th></th>\n",
       "      <th>0</th>\n",
       "      <th>1</th>\n",
       "    </tr>\n",
       "  </thead>\n",
       "  <tbody>\n",
       "    <tr>\n",
       "      <th>0</th>\n",
       "      <td>Samples collected</td>\n",
       "      <td>757,137</td>\n",
       "    </tr>\n",
       "    <tr>\n",
       "      <th>1</th>\n",
       "      <td>Tested Positive</td>\n",
       "      <td>225,817</td>\n",
       "    </tr>\n",
       "    <tr>\n",
       "      <th>2</th>\n",
       "      <td>Tests per million</td>\n",
       "      <td>9,799</td>\n",
       "    </tr>\n",
       "    <tr>\n",
       "      <th>3</th>\n",
       "      <td>Percentage Tested Positive</td>\n",
       "      <td>29.8%</td>\n",
       "    </tr>\n",
       "  </tbody>\n",
       "</table>\n",
       "</div>"
      ],
      "text/plain": [
       "                            0        1\n",
       "0           Samples collected  757,137\n",
       "1             Tested Positive  225,817\n",
       "2           Tests per million    9,799\n",
       "3  Percentage Tested Positive    29.8%"
      ]
     },
     "execution_count": 165,
     "metadata": {},
     "output_type": "execute_result"
    }
   ],
   "source": [
    "df3 = pd.DataFrame(cov_in_raj_2)\n",
    "df3.head()"
   ]
  },
  {
   "cell_type": "markdown",
   "metadata": {},
   "source": [
    "### Exporting Data Frames into a CSV files\n",
    "<br>"
   ]
  },
  {
   "cell_type": "code",
   "execution_count": 166,
   "metadata": {},
   "outputs": [],
   "source": [
    "df1.to_csv('covid_raj_table1.csv')\n",
    "df2.to_csv('covid_raj_table2.csv')\n",
    "df3.to_csv('covid_raj_table3.csv')"
   ]
  }
 ],
 "metadata": {
  "kernelspec": {
   "display_name": "Python 3",
   "language": "python",
   "name": "python3"
  },
  "language_info": {
   "codemirror_mode": {
    "name": "ipython",
    "version": 3
   },
   "file_extension": ".py",
   "mimetype": "text/x-python",
   "name": "python",
   "nbconvert_exporter": "python",
   "pygments_lexer": "ipython3",
   "version": "3.8.5"
  }
 },
 "nbformat": 4,
 "nbformat_minor": 4
}

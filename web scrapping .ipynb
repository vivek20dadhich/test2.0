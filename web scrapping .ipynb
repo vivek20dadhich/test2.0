{
 "cells": [
  {
   "cell_type": "code",
   "execution_count": 44,
   "metadata": {},
   "outputs": [],
   "source": [
    "import urllib.request\n",
    "from bs4 import BeautifulSoup as bs\n",
    "import re\n",
    "import pandas as pd"
   ]
  },
  {
   "cell_type": "markdown",
   "metadata": {},
   "source": [
    "### Step 1: pulling HTML out of a web page\n",
    "<br>"
   ]
  },
  {
   "cell_type": "code",
   "execution_count": 45,
   "metadata": {},
   "outputs": [],
   "source": [
    "#load html code from a url\n",
    "page = urllib.request.urlopen(\"https://docs.python.org/3/library/math.html\")\n",
    "soup = bs(page)\n",
    "#print('extracted HTML code:\\n', soup)"
   ]
  },
  {
   "cell_type": "markdown",
   "metadata": {},
   "source": [
    "> The \\w metacharacter is used to find a word character.\n",
    "\n",
    "> \\w+ means “find the first alphanumeric character and then check the next character and if it is alphanumeric then include it in the match too, repeat until you run into a non-alphanumeric character"
   ]
  },
  {
   "cell_type": "markdown",
   "metadata": {},
   "source": [
    "### Step 2: targeting elements of interest inside the HTML\n",
    "<br>"
   ]
  },
  {
   "cell_type": "code",
   "execution_count": 46,
   "metadata": {},
   "outputs": [],
   "source": [
    "#find all function names\n",
    "names = soup.body.findAll('dt')  #targeting all the <dt> elements in the web page"
   ]
  },
  {
   "cell_type": "markdown",
   "metadata": {},
   "source": [
    "<br>"
   ]
  },
  {
   "cell_type": "markdown",
   "metadata": {},
   "source": [
    "### Step 3: fine-tuning targeted elements with Regex (Regular Expressions),string concatenation or slicing\n",
    "<br>"
   ]
  },
  {
   "cell_type": "code",
   "execution_count": 47,
   "metadata": {},
   "outputs": [],
   "source": [
    "function_names = re.findall('id=\"math.\\w+', str(names)) #extract expression starting with id and ends where the function names end and second parameter is the destination variable where the regex looks for\n",
    "#print(function_names)\n",
    "function_names = [item[4:] for item in function_names] #remove first four characters"
   ]
  },
  {
   "cell_type": "code",
   "execution_count": 48,
   "metadata": {},
   "outputs": [],
   "source": [
    "#find all function descriptions\n",
    "description = soup.body.findAll('dd')  ##targeting all the <dd> elements in the web page\n",
    "function_usage = []"
   ]
  },
  {
   "cell_type": "code",
   "execution_count": 49,
   "metadata": {},
   "outputs": [
    {
     "name": "stdout",
     "output_type": "stream",
     "text": [
      "list of function names: ['math.ceil', 'math.comb', 'math.copysign', 'math.fabs', 'math.factorial', 'math.floor', 'math.fmod', 'math.frexp', 'math.fsum', 'math.gcd', 'math.isclose', 'math.isfinite', 'math.isinf', 'math.isnan', 'math.isqrt', 'math.lcm', 'math.ldexp', 'math.modf', 'math.nextafter', 'math.perm', 'math.prod', 'math.remainder', 'math.trunc', 'math.ulp', 'math.exp', 'math.expm1', 'math.log', 'math.log1p', 'math.log2', 'math.log10', 'math.pow', 'math.sqrt', 'math.acos', 'math.asin', 'math.atan', 'math.atan2', 'math.cos', 'math.dist', 'math.hypot', 'math.sin', 'math.tan', 'math.degrees', 'math.radians', 'math.acosh', 'math.asinh', 'math.atanh', 'math.cosh', 'math.sinh', 'math.tanh', 'math.erf', 'math.erfc', 'math.gamma', 'math.lgamma', 'math.pi', 'math.e', 'math.tau', 'math.inf', 'math.nan']\n",
      "\n",
      "function description: Return the floor of x, the largest integer less than or equal to x. If x is not a float, delegates to x.__floor__(), which should return an Integral value. \n",
      "\n",
      "number of items in function names: 58\n",
      "number of items in function description: 59\n"
     ]
    }
   ],
   "source": [
    "for item in description:\n",
    "  item = item.text\n",
    "  item = item.replace('\\n', ' ')   #replace all newline char into blank spaces\n",
    "  function_usage.append(item)\n",
    "\n",
    "print('list of function names:',function_names[:])\n",
    "print('\\nfunction description:', function_usage[5])\n",
    "print('\\nnumber of items in function names:', len(function_names))\n",
    "print('number of items in function description:', len(function_usage))\n",
    "#print(function_usage[:])"
   ]
  },
  {
   "cell_type": "markdown",
   "metadata": {},
   "source": [
    "### Step 4: storing the data inside a Data Frame\n",
    "<br>"
   ]
  },
  {
   "cell_type": "code",
   "execution_count": 50,
   "metadata": {},
   "outputs": [
    {
     "data": {
      "text/html": [
       "<div>\n",
       "<style scoped>\n",
       "    .dataframe tbody tr th:only-of-type {\n",
       "        vertical-align: middle;\n",
       "    }\n",
       "\n",
       "    .dataframe tbody tr th {\n",
       "        vertical-align: top;\n",
       "    }\n",
       "\n",
       "    .dataframe thead th {\n",
       "        text-align: right;\n",
       "    }\n",
       "</style>\n",
       "<table border=\"1\" class=\"dataframe\">\n",
       "  <thead>\n",
       "    <tr style=\"text-align: right;\">\n",
       "      <th></th>\n",
       "      <th>function name</th>\n",
       "      <th>function usage</th>\n",
       "    </tr>\n",
       "  </thead>\n",
       "  <tbody>\n",
       "    <tr>\n",
       "      <th>0</th>\n",
       "      <td>math.ceil</td>\n",
       "      <td>Return the ceiling of x, the smallest integer ...</td>\n",
       "    </tr>\n",
       "    <tr>\n",
       "      <th>1</th>\n",
       "      <td>math.comb</td>\n",
       "      <td>Return the number of ways to choose k items fr...</td>\n",
       "    </tr>\n",
       "    <tr>\n",
       "      <th>2</th>\n",
       "      <td>math.copysign</td>\n",
       "      <td>Return a float with the magnitude (absolute va...</td>\n",
       "    </tr>\n",
       "    <tr>\n",
       "      <th>3</th>\n",
       "      <td>math.fabs</td>\n",
       "      <td>Return the absolute value of x.</td>\n",
       "    </tr>\n",
       "    <tr>\n",
       "      <th>4</th>\n",
       "      <td>math.factorial</td>\n",
       "      <td>Return x factorial as an integer.  Raises Valu...</td>\n",
       "    </tr>\n",
       "    <tr>\n",
       "      <th>5</th>\n",
       "      <td>math.floor</td>\n",
       "      <td>Return the floor of x, the largest integer les...</td>\n",
       "    </tr>\n",
       "    <tr>\n",
       "      <th>6</th>\n",
       "      <td>math.fmod</td>\n",
       "      <td>Return fmod(x, y), as defined by the platform ...</td>\n",
       "    </tr>\n",
       "    <tr>\n",
       "      <th>7</th>\n",
       "      <td>math.frexp</td>\n",
       "      <td>Return the mantissa and exponent of x as the p...</td>\n",
       "    </tr>\n",
       "    <tr>\n",
       "      <th>8</th>\n",
       "      <td>math.fsum</td>\n",
       "      <td>Return an accurate floating point sum of value...</td>\n",
       "    </tr>\n",
       "    <tr>\n",
       "      <th>9</th>\n",
       "      <td>math.gcd</td>\n",
       "      <td>Return the greatest common divisor of the spec...</td>\n",
       "    </tr>\n",
       "  </tbody>\n",
       "</table>\n",
       "</div>"
      ],
      "text/plain": [
       "    function name                                     function usage\n",
       "0       math.ceil  Return the ceiling of x, the smallest integer ...\n",
       "1       math.comb  Return the number of ways to choose k items fr...\n",
       "2   math.copysign  Return a float with the magnitude (absolute va...\n",
       "3       math.fabs                   Return the absolute value of x. \n",
       "4  math.factorial  Return x factorial as an integer.  Raises Valu...\n",
       "5      math.floor  Return the floor of x, the largest integer les...\n",
       "6       math.fmod  Return fmod(x, y), as defined by the platform ...\n",
       "7      math.frexp  Return the mantissa and exponent of x as the p...\n",
       "8       math.fsum  Return an accurate floating point sum of value...\n",
       "9        math.gcd  Return the greatest common divisor of the spec..."
      ]
     },
     "execution_count": 50,
     "metadata": {},
     "output_type": "execute_result"
    }
   ],
   "source": [
    "#create a dataframe\n",
    "data = pd.DataFrame({'function name': function_names, 'function usage': function_usage[:58]})\n",
    "data.head(10)"
   ]
  },
  {
   "cell_type": "markdown",
   "metadata": {},
   "source": [
    "### Step 5: exporting Data Frame into a CSV file\n",
    "<br>"
   ]
  },
  {
   "cell_type": "code",
   "execution_count": 28,
   "metadata": {},
   "outputs": [],
   "source": [
    "data.to_csv('math_funcs.csv')"
   ]
  },
  {
   "cell_type": "code",
   "execution_count": null,
   "metadata": {},
   "outputs": [],
   "source": []
  }
 ],
 "metadata": {
  "kernelspec": {
   "display_name": "Python 3",
   "language": "python",
   "name": "python3"
  },
  "language_info": {
   "codemirror_mode": {
    "name": "ipython",
    "version": 3
   },
   "file_extension": ".py",
   "mimetype": "text/x-python",
   "name": "python",
   "nbconvert_exporter": "python",
   "pygments_lexer": "ipython3",
   "version": "3.8.5"
  }
 },
 "nbformat": 4,
 "nbformat_minor": 4
}
